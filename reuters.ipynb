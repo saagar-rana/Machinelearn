{
 "cells": [
  {
   "cell_type": "code",
   "execution_count": 3,
   "metadata": {},
   "outputs": [],
   "source": [
    "from tensorflow.keras.datasets import reuters\n",
    "(train_data, train_labels), (test_data, test_labels) = reuters.load_data(\n",
    " num_words=10000)"
   ]
  },
  {
   "cell_type": "code",
   "execution_count": 4,
   "metadata": {},
   "outputs": [
    {
     "name": "stdout",
     "output_type": "stream",
     "text": [
      "(8982,)\n",
      "(8982,)\n",
      "(2246,)\n",
      "(2246,)\n"
     ]
    }
   ],
   "source": [
    "print(train_data.shape)\n",
    "print(train_labels.shape)\n",
    "print(test_data.shape)\n",
    "print(test_labels.shape)"
   ]
  },
  {
   "cell_type": "code",
   "execution_count": 5,
   "metadata": {},
   "outputs": [
    {
     "data": {
      "text/plain": [
       "'? ? ? said as a result of its december acquisition of space co it expects earnings per share in 1987 of 1 15 to 1 30 dlrs per share up from 70 cts in 1986 the company said pretax net should rise to nine to 10 mln dlrs from six mln dlrs in 1986 and rental operation revenues to 19 to 22 mln dlrs from 12 5 mln dlrs it said cash flow per share this year should be 2 50 to three dlrs reuter 3'"
      ]
     },
     "execution_count": 5,
     "metadata": {},
     "output_type": "execute_result"
    }
   ],
   "source": [
    "word_index = reuters.get_word_index()\n",
    "reverse_word_index = dict(\n",
    " [(value, key) for (key, value) in word_index.items()])\n",
    "decoded_review = \" \".join(\n",
    " [reverse_word_index.get(i - 3, \"?\") for i in train_data[0]])\n",
    "decoded_review"
   ]
  },
  {
   "cell_type": "code",
   "execution_count": 6,
   "metadata": {},
   "outputs": [],
   "source": [
    "import numpy as np\n",
    "def vectorize_sequences(sequences, dimension=10000):\n",
    " results = np.zeros((len(sequences), dimension))\n",
    " for i, sequence in enumerate(sequences):\n",
    "    for j in sequence:\n",
    "        results[i, j] = 1.\n",
    " return results\n",
    "x_train = vectorize_sequences(train_data)\n",
    "x_test = vectorize_sequences(test_data)"
   ]
  },
  {
   "cell_type": "code",
   "execution_count": 7,
   "metadata": {},
   "outputs": [],
   "source": [
    "import numpy as np\n",
    "y_train = np.array(train_labels)\n",
    "y_test = np.array(test_labels)"
   ]
  },
  {
   "cell_type": "code",
   "execution_count": 8,
   "metadata": {},
   "outputs": [
    {
     "name": "stdout",
     "output_type": "stream",
     "text": [
      "(8982, 10000)\n",
      "(2246, 10000)\n",
      "(8982,)\n",
      "(2246,)\n"
     ]
    }
   ],
   "source": [
    "print(x_train.shape)\n",
    "print(x_test.shape)\n",
    "print(y_train.shape)\n",
    "print(y_test.shape)"
   ]
  },
  {
   "cell_type": "code",
   "execution_count": 9,
   "metadata": {},
   "outputs": [],
   "source": [
    "from tensorflow import keras\n",
    "from tensorflow.keras import layers\n",
    "\n",
    "model = keras.Sequential([\n",
    " layers.Dense(64, activation=\"relu\"),\n",
    " layers.Dense(64, activation=\"relu\"),\n",
    " layers.Dense(46, activation=\"softmax\")\n",
    "])\n",
    "model.compile(optimizer=\"rmsprop\",\n",
    " loss=\"sparse_categorical_crossentropy\",\n",
    " metrics=[\"accuracy\"])\n"
   ]
  },
  {
   "cell_type": "code",
   "execution_count": 10,
   "metadata": {},
   "outputs": [],
   "source": [
    "x_val = x_train[:1000]\n",
    "partial_x_train = x_train[1000:]\n",
    "y_val = y_train[:1000]\n",
    "partial_y_train = y_train[1000:]"
   ]
  },
  {
   "cell_type": "code",
   "execution_count": 17,
   "metadata": {},
   "outputs": [
    {
     "data": {
      "text/plain": [
       "(1000, 10000)"
      ]
     },
     "execution_count": 17,
     "metadata": {},
     "output_type": "execute_result"
    }
   ],
   "source": [
    "x_val.shape"
   ]
  },
  {
   "cell_type": "code",
   "execution_count": 12,
   "metadata": {},
   "outputs": [
    {
     "data": {
      "text/plain": [
       "(7982,)"
      ]
     },
     "execution_count": 12,
     "metadata": {},
     "output_type": "execute_result"
    }
   ],
   "source": [
    "partial_y_train.shape"
   ]
  },
  {
   "cell_type": "code",
   "execution_count": 18,
   "metadata": {},
   "outputs": [
    {
     "name": "stdout",
     "output_type": "stream",
     "text": [
      "Epoch 1/20\n",
      "18/18 [==============================] - 1s 73ms/step - loss: 0.2278 - accuracy: 0.9431 - val_loss: 0.9936 - val_accuracy: 0.7961\n",
      "Epoch 2/20\n",
      "18/18 [==============================] - 1s 56ms/step - loss: 0.1820 - accuracy: 0.9464 - val_loss: 0.9944 - val_accuracy: 0.7961\n",
      "Epoch 3/20\n",
      "18/18 [==============================] - 1s 53ms/step - loss: 0.1625 - accuracy: 0.9493 - val_loss: 0.9759 - val_accuracy: 0.7996\n",
      "Epoch 4/20\n",
      "18/18 [==============================] - 1s 41ms/step - loss: 0.1551 - accuracy: 0.9512 - val_loss: 1.0337 - val_accuracy: 0.7930\n",
      "Epoch 5/20\n",
      "18/18 [==============================] - 1s 42ms/step - loss: 0.1438 - accuracy: 0.9516 - val_loss: 1.0166 - val_accuracy: 0.7970\n",
      "Epoch 6/20\n",
      "18/18 [==============================] - 1s 44ms/step - loss: 0.1343 - accuracy: 0.9542 - val_loss: 1.0124 - val_accuracy: 0.8001\n",
      "Epoch 7/20\n",
      "18/18 [==============================] - 1s 48ms/step - loss: 0.1288 - accuracy: 0.9552 - val_loss: 1.0246 - val_accuracy: 0.8032\n",
      "Epoch 8/20\n",
      "18/18 [==============================] - 1s 71ms/step - loss: 0.1266 - accuracy: 0.9559 - val_loss: 1.0674 - val_accuracy: 0.7974\n",
      "Epoch 9/20\n",
      "18/18 [==============================] - 1s 48ms/step - loss: 0.1222 - accuracy: 0.9558 - val_loss: 1.1068 - val_accuracy: 0.7832\n",
      "Epoch 10/20\n",
      "18/18 [==============================] - 1s 43ms/step - loss: 0.1219 - accuracy: 0.9538 - val_loss: 1.0315 - val_accuracy: 0.7996\n",
      "Epoch 11/20\n",
      "18/18 [==============================] - 1s 46ms/step - loss: 0.1204 - accuracy: 0.9542 - val_loss: 1.1088 - val_accuracy: 0.7898\n",
      "Epoch 12/20\n",
      "18/18 [==============================] - 1s 44ms/step - loss: 0.1155 - accuracy: 0.9556 - val_loss: 1.0920 - val_accuracy: 0.7930\n",
      "Epoch 13/20\n",
      "18/18 [==============================] - 1s 44ms/step - loss: 0.1161 - accuracy: 0.9544 - val_loss: 1.0700 - val_accuracy: 0.8023\n",
      "Epoch 14/20\n",
      "18/18 [==============================] - 1s 46ms/step - loss: 0.1131 - accuracy: 0.9567 - val_loss: 1.0873 - val_accuracy: 0.7947\n",
      "Epoch 15/20\n",
      "18/18 [==============================] - 1s 53ms/step - loss: 0.1132 - accuracy: 0.9564 - val_loss: 1.0838 - val_accuracy: 0.8010\n",
      "Epoch 16/20\n",
      "18/18 [==============================] - 1s 57ms/step - loss: 0.1091 - accuracy: 0.9566 - val_loss: 1.0963 - val_accuracy: 0.8010\n",
      "Epoch 17/20\n",
      "18/18 [==============================] - 1s 48ms/step - loss: 0.1092 - accuracy: 0.9565 - val_loss: 1.0886 - val_accuracy: 0.8028\n",
      "Epoch 18/20\n",
      "18/18 [==============================] - 1s 42ms/step - loss: 0.1090 - accuracy: 0.9558 - val_loss: 1.0587 - val_accuracy: 0.8050\n",
      "Epoch 19/20\n",
      "18/18 [==============================] - 1s 42ms/step - loss: 0.1084 - accuracy: 0.9556 - val_loss: 1.1180 - val_accuracy: 0.7956\n",
      "Epoch 20/20\n",
      "18/18 [==============================] - 1s 42ms/step - loss: 0.1091 - accuracy: 0.9557 - val_loss: 1.1842 - val_accuracy: 0.7841\n"
     ]
    }
   ],
   "source": [
    "history = model.fit(x_train,\n",
    "y_train,\n",
    "epochs=20,\n",
    "batch_size=512,\n",
    "validation_data=(x_test, y_test))"
   ]
  },
  {
   "cell_type": "code",
   "execution_count": 19,
   "metadata": {},
   "outputs": [
    {
     "data": {
      "image/png": "[encoded data removed]",
      "text/plain": [
       "<Figure size 640x480 with 1 Axes>"
      ]
     },
     "metadata": {},
     "output_type": "display_data"
    }
   ],
   "source": [
    "import matplotlib.pyplot as plt\n",
    "loss = history.history[\"loss\"]\n",
    "val_loss = history.history[\"val_loss\"]\n",
    "epochs = range(1, len(loss) + 1)\n",
    "plt.plot(epochs, loss, \"bo\", label=\"Training loss\")\n",
    "plt.plot(epochs, val_loss, \"b\", label=\"Validation loss\")\n",
    "plt.title(\"Training and validation loss\")\n",
    "plt.xlabel(\"Epochs\")\n",
    "plt.ylabel(\"Loss\")\n",
    "plt.legend()\n",
    "plt.show()"
   ]
  },
  {
   "cell_type": "code",
   "execution_count": 16,
   "metadata": {},
   "outputs": [
    {
     "name": "stdout",
     "output_type": "stream",
     "text": [
      "71/71 [==============================] - 0s 3ms/step - loss: 1.0259 - accuracy: 0.7894\n"
     ]
    }
   ],
   "source": [
    "results = model.evaluate(x_test, y_test)"
   ]
  },
  {
   "cell_type": "code",
   "execution_count": 15,
   "metadata": {},
   "outputs": [
    {
     "data": {
      "text/plain": [
       "[1.0790640115737915, 0.7867319583892822]"
      ]
     },
     "execution_count": 15,
     "metadata": {},
     "output_type": "execute_result"
    }
   ],
   "source": [
    "results"
   ]
  },
  {
   "cell_type": "code",
   "execution_count": null,
   "metadata": {},
   "outputs": [],
   "source": []
  }
 ],
 "metadata": {
  "kernelspec": {
   "display_name": "tf",
   "language": "python",
   "name": "python3"
  },
  "language_info": {
   "codemirror_mode": {
    "name": "ipython",
    "version": 3
   },
   "file_extension": ".py",
   "mimetype": "text/x-python",
   "name": "python",
   "nbconvert_exporter": "python",
   "pygments_lexer": "ipython3",
   "version": "3.9.16"
  },
  "orig_nbformat": 4
 },
 "nbformat": 4,
 "nbformat_minor": 2
}
